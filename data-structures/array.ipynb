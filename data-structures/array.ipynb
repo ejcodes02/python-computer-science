{
 "cells": [
  {
   "cell_type": "markdown",
   "metadata": {},
   "source": [
    "## Mixed/Heterogeneous array - Array that can have multiple data types"
   ]
  },
  {
   "cell_type": "code",
   "execution_count": 1,
   "metadata": {},
   "outputs": [
    {
     "name": "stdout",
     "output_type": "stream",
     "text": [
      "1\n",
      "hello\n",
      "True\n"
     ]
    }
   ],
   "source": [
    "\"\"\"Lists are mixed arrays in python\"\"\"\n",
    "mixed_array = [1, \"hello\", True]\n",
    "print(mixed_array[0])\n",
    "print(mixed_array[1])\n",
    "print(mixed_array[2])"
   ]
  },
  {
   "cell_type": "markdown",
   "metadata": {},
   "source": [
    "## Typed/Homogeneous array - Array consisting of only one data type"
   ]
  },
  {
   "cell_type": "code",
   "execution_count": 2,
   "metadata": {},
   "outputs": [
    {
     "name": "stdout",
     "output_type": "stream",
     "text": [
      "array('i', [1, 2, 3, 4])\n"
     ]
    }
   ],
   "source": [
    "\"\"\"\n",
    "In python, lists are mixed arrays\n",
    "To create a typed/homogeneous, we have to use array module\n",
    "\"\"\"\n",
    "import array\n",
    "\n",
    "# Create an integer array\n",
    "int_array = array.array('i', [1, 2, 3])\n",
    "\n",
    "# Add a new integer to the array\n",
    "int_array.append(4)\n",
    "\n",
    "\"\"\"Appending any of this will cause an error\"\"\"\n",
    "# int_array.append(1.5)\n",
    "# int_array.append(\"hello\")\n",
    "\n",
    "\"\"\"Appending boolean values will result to 1 and 0 as True and False respectively\"\"\"\n",
    "# int_array.append(True)\n",
    "# int_array.append(False)\n",
    "\n",
    "print(int_array)"
   ]
  },
  {
   "cell_type": "markdown",
   "metadata": {},
   "source": [
    "## Constant array - Array values that cannot be changed"
   ]
  },
  {
   "cell_type": "code",
   "execution_count": 3,
   "metadata": {},
   "outputs": [],
   "source": [
    "\"\"\"\n",
    "In python, this is more like a suggestion\n",
    "You can still modify this array if you want\n",
    "But please don't\n",
    "\"\"\"\n",
    "CONSTANT_ARRAY = [2, 3, 4]"
   ]
  },
  {
   "cell_type": "markdown",
   "metadata": {},
   "source": [
    "## Linear array - Array that contains a linear values"
   ]
  },
  {
   "cell_type": "code",
   "execution_count": 4,
   "metadata": {},
   "outputs": [
    {
     "name": "stdout",
     "output_type": "stream",
     "text": [
      "First element: 1\n",
      "Second element: 2\n"
     ]
    }
   ],
   "source": [
    "# Linear array using python list\n",
    "linear_array = [1, 2, 3, 4, 5]\n",
    "\n",
    "# Accessing elements in the linear array\n",
    "print(\"First element:\", linear_array[0])  # Output: 1\n",
    "print(\"Second element:\", linear_array[1])  # Output: 2"
   ]
  },
  {
   "cell_type": "markdown",
   "metadata": {},
   "source": [
    "## Multi-dimensional array - Array that contains arrays like nested list in python"
   ]
  },
  {
   "cell_type": "code",
   "execution_count": 5,
   "metadata": {},
   "outputs": [
    {
     "name": "stdout",
     "output_type": "stream",
     "text": [
      "Element at row 2, column 3: 6\n"
     ]
    }
   ],
   "source": [
    "# Multi-dimensional array using nested lists\n",
    "multi_dim_array = [\n",
    "    [1, 2, 3],\n",
    "    [4, 5, 6],\n",
    "    [7, 8, 9]\n",
    "]\n",
    "\n",
    "# Accessing elements in the multi-dimensional array\n",
    "print(\"Element at row 2, column 3:\", multi_dim_array[1][2])"
   ]
  },
  {
   "cell_type": "markdown",
   "metadata": {},
   "source": [
    "## Dynamic array - Arrays that can grow or shrink similar to a python list"
   ]
  },
  {
   "cell_type": "code",
   "execution_count": 6,
   "metadata": {},
   "outputs": [
    {
     "name": "stdout",
     "output_type": "stream",
     "text": [
      "First element: 1\n",
      "Second element: 2\n"
     ]
    }
   ],
   "source": [
    "# Dynamic array in Python (list)\n",
    "dynamic_array = []\n",
    "\n",
    "# Append elements to the dynamic array\n",
    "dynamic_array.append(1)\n",
    "dynamic_array.append(2)\n",
    "dynamic_array.append(3)\n",
    "\n",
    "# Accessing elements in the dynamic array\n",
    "print(\"First element:\", dynamic_array[0])  # Output: 1\n",
    "print(\"Second element:\", dynamic_array[1])  # Output: 2\n"
   ]
  },
  {
   "cell_type": "markdown",
   "metadata": {},
   "source": [
    "## Jagged array - Arrays of arrays where each inner array can have different lengths"
   ]
  },
  {
   "cell_type": "code",
   "execution_count": 7,
   "metadata": {},
   "outputs": [
    {
     "name": "stdout",
     "output_type": "stream",
     "text": [
      "Element at row 2, column 2: 5\n"
     ]
    }
   ],
   "source": [
    "# Jagged array in Python (nested list)\n",
    "jagged_array = [\n",
    "    [1, 2, 3],\n",
    "    [4, 5],\n",
    "    [6, 7, 8, 9]\n",
    "]\n",
    "\n",
    "# Accessing elements in the jagged array\n",
    "print(\"Element at row 2, column 2:\", jagged_array[1][1])  # Output: 5"
   ]
  }
 ],
 "metadata": {
  "kernelspec": {
   "display_name": ".venv",
   "language": "python",
   "name": "python3"
  },
  "language_info": {
   "codemirror_mode": {
    "name": "ipython",
    "version": 3
   },
   "file_extension": ".py",
   "mimetype": "text/x-python",
   "name": "python",
   "nbconvert_exporter": "python",
   "pygments_lexer": "ipython3",
   "version": "3.12.3"
  }
 },
 "nbformat": 4,
 "nbformat_minor": 2
}
